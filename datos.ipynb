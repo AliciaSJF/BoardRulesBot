{
 "cells": [
  {
   "cell_type": "code",
   "execution_count": null,
   "metadata": {},
   "outputs": [],
   "source": [
    "%pip install pypdf2"
   ]
  },
  {
   "cell_type": "markdown",
   "metadata": {},
   "source": [
    "# Extraer datos"
   ]
  },
  {
   "cell_type": "code",
   "execution_count": 7,
   "metadata": {},
   "outputs": [],
   "source": [
    "catan = \"C:/Users/Alicia/Documents/python/game-chat/catan.pdf\"\n",
    "carcassone = r\"C:\\Users\\Alicia\\Documents\\python\\game-chat\\carcassone.pdf\""
   ]
  },
  {
   "cell_type": "code",
   "execution_count": 10,
   "metadata": {},
   "outputs": [
    {
     "name": "stdout",
     "output_type": "stream",
     "text": [
      "Texto extraído con éxito.\n"
     ]
    }
   ],
   "source": [
    "from PyPDF2 import PdfReader\n",
    "\n",
    "# Cargar el PDF\n",
    "file_path = \"carcassone.pdf\"  # Cambia por la ruta del archivo\n",
    "reader = PdfReader(file_path)\n",
    "\n",
    "# Extraer texto de todas las páginas\n",
    "text = \"\"\n",
    "for page in reader.pages:\n",
    "    text += page.extract_text()\n",
    "\n",
    "# Guardar el texto en un archivo\n",
    "with open(\"carcassone_rules_pypdf2.txt\", \"w\", encoding=\"utf-8\") as f:\n",
    "    f.write(text)\n",
    "\n",
    "print(\"Texto extraído con éxito.\")\n"
   ]
  },
  {
   "cell_type": "code",
   "execution_count": 11,
   "metadata": {},
   "outputs": [
    {
     "name": "stdout",
     "output_type": "stream",
     "text": [
      "Texto estructurado y guardado en JSON.\n"
     ]
    }
   ],
   "source": [
    "import re\n",
    "import json\n",
    "\n",
    "# Leer el texto extraído\n",
    "with open(\"carcassone_rules_pypdf2.txt\", \"r\", encoding=\"utf-8\") as f:\n",
    "    raw_text = f.read()\n",
    "\n",
    "# Dividir en secciones usando patrones de títulos en mayúsculas\n",
    "sections = re.split(r\"\\n(?=[A-Z\\s]+(?:[A-Z]+[a-z]*){1,4}\\n)\", raw_text)\n",
    "\n",
    "# Crear un diccionario con las secciones\n",
    "rules = {}\n",
    "for section in sections:\n",
    "    lines = section.strip().split(\"\\n\")\n",
    "    if lines:\n",
    "        title = lines[0].strip()\n",
    "        content = \"\\n\".join(lines[1:]).strip()\n",
    "        rules[title] = content\n",
    "\n",
    "# Guardar las reglas en formato JSON\n",
    "with open(\"carcassone_rules_pypdf2.json\", \"w\", encoding=\"utf-8\") as f:\n",
    "    json.dump(rules, f, ensure_ascii=False, indent=4)\n",
    "\n",
    "print(\"Texto estructurado y guardado en JSON.\")\n"
   ]
  },
  {
   "cell_type": "code",
   "execution_count": null,
   "metadata": {},
   "outputs": [],
   "source": [
    "%pip install pdfplumber"
   ]
  },
  {
   "cell_type": "code",
   "execution_count": 8,
   "metadata": {},
   "outputs": [],
   "source": [
    "import pdfplumber\n",
    "\n",
    "# Cargar el PDF\n",
    "with pdfplumber.open(carcassone) as pdf:\n",
    "    text = \"\"\n",
    "    for page in pdf.pages:\n",
    "        text += page.extract_text()\n",
    "\n",
    "# Guardar el texto en un archivo\n",
    "with open(\"carcassone_rules.txt\", \"w\", encoding=\"utf-8\") as f:\n",
    "    f.write(text)\n"
   ]
  },
  {
   "cell_type": "code",
   "execution_count": 9,
   "metadata": {},
   "outputs": [],
   "source": [
    "import re\n",
    "import json\n",
    "\n",
    "# Leer el texto extraído\n",
    "with open(\"carcassone_rules.txt\", \"r\", encoding=\"utf-8\") as f:\n",
    "    raw_text = f.read()\n",
    "\n",
    "# Identificar las secciones principales usando expresiones regulares\n",
    "sections = re.split(r\"\\n(?=[A-Z\\s]+(?:[A-Z]+[a-z]*){1,4}\\n)\", raw_text)\n",
    "\n",
    "# Crear un diccionario con las secciones\n",
    "rules = {}\n",
    "for section in sections:\n",
    "    lines = section.strip().split(\"\\n\")\n",
    "    if lines:\n",
    "        title = lines[0].strip()\n",
    "        content = \"\\n\".join(lines[1:]).strip()\n",
    "        rules[title] = content\n",
    "\n",
    "# Guardar las reglas en formato JSON\n",
    "with open(\"carcassone_rules.json\", \"w\", encoding=\"utf-8\") as f:\n",
    "    json.dump(rules, f, ensure_ascii=False, indent=4)\n"
   ]
  }
 ],
 "metadata": {
  "kernelspec": {
   "display_name": "venv",
   "language": "python",
   "name": "python3"
  },
  "language_info": {
   "codemirror_mode": {
    "name": "ipython",
    "version": 3
   },
   "file_extension": ".py",
   "mimetype": "text/x-python",
   "name": "python",
   "nbconvert_exporter": "python",
   "pygments_lexer": "ipython3",
   "version": "3.13.0"
  }
 },
 "nbformat": 4,
 "nbformat_minor": 2
}
